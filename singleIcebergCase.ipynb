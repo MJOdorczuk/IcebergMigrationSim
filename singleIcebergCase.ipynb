{
 "cells": [
  {
   "cell_type": "code",
   "execution_count": 1,
   "metadata": {},
   "outputs": [],
   "source": [
    "%pip install --upgrade pip\n",
    "from IPython.display import clear_output\n",
    "%pip install netCDF4\n",
    "import netCDF4 as nc\n",
    "%pip install matplotlib\n",
    "from matplotlib import pyplot as plt\n",
    "%pip install numpy\n",
    "import numpy as np\n",
    "from matplotlib import rcParams\n",
    "%pip install scipy\n",
    "from scipy import signal\n",
    "from scipy import interpolate\n",
    "%pip install pandas\n",
    "import pandas as pd\n",
    "import re\n",
    "%pip install imageio\n",
    "import imageio\n",
    "from datetime import datetime, timedelta, date\n",
    "clear_output()\n",
    "\n",
    "plt.show()\n",
    "rcParams['figure.figsize'] = [16, 12]"
   ]
  },
  {
   "cell_type": "code",
   "execution_count": 3,
   "metadata": {},
   "outputs": [],
   "source": [
    "msperdeg = 111139\n",
    "LONG = 25\n",
    "LATI = 73.5\n",
    "\n",
    "LATMARGIN = 1.0\n",
    "\n",
    "epsilon = LATMARGIN * np.pi / (180 * np.sin((90 - LATI) * np.pi / 180))\n",
    "\n",
    "LONGE = LONG + epsilon * 180 / np.pi\n",
    "LONGW = LONG - epsilon * 180 / np.pi\n",
    "LATIN = LATI + LATMARGIN\n",
    "LATIS = LATI - LATMARGIN"
   ]
  },
  {
   "cell_type": "code",
   "execution_count": 4,
   "metadata": {},
   "outputs": [],
   "source": [
    "fn = \"./datasets/IBCAO_v4_2_200m_trimmed.nc\"\n",
    "ds = nc.Dataset(fn)\n",
    "z = np.array(ds['z'])\n",
    "x = np.array(ds['x'])\n",
    "y = np.array(ds['y'])\n",
    "X,Y = np.meshgrid(x, y)"
   ]
  },
  {
   "attachments": {},
   "cell_type": "markdown",
   "metadata": {},
   "source": [
    "### Force balance on a single iceberg\n",
    "\n",
    "$(1 + C_m)\\dot{\\vec{V}_i} = \\vec{F}_a + \\vec{F}_w + \\vec{F}_c + \\vec{F}_{si} + \\vec{F}_{wd} + \\vec{F}_p$\n",
    "\n",
    "where\n",
    "\n",
    " - $C_m$ - is the added mass coefficient,\n",
    " - $\\vec{V}_i$ - is iceberg velocity,\n",
    " - $\\dot{\\vec{V}_i}$ - is the iceberg acceleration,\n",
    " - $\\vec{F}_a = \\frac{1}{2} \\rho_a C_a A_a \\lvert \\vec{V}_a - \\vec{V}_i \\rvert (\\vec{V}_a - \\vec{V}_i)$ - is the air drag force:\n",
    "     * $\\rho_a$ - density of air,\n",
    "     * $C_a$ - air drag coefficient,\n",
    "     * $A_a$ - iceberg area facing relative the wind,\n",
    "     * $\\vec{V}_a$ - wind velocity,\n",
    " - $\\vec{F}_w = \\frac{1}{2} \\rho_w C_w A_w \\lvert\\vec{V}_w - \\vec{V}_i\\rvert (\\vec{V}_w - \\vec{V}_i)$ - is the water drag force:\n",
    "     * $\\rho_w$ - density of water,\n",
    "     * $C_w$ - water drag coefficient,\n",
    "     * $A_w$ - iceberg area facing the relative water current,\n",
    "     * $\\vec{V}_w$ - water velocity,\n",
    " - $\\vec{F}_c = 2 m \\Omega \\sin(\\Phi) \\vec{k} \\vec{V}_i$ - is the Coriolis force:\n",
    "     * $\\Omega$ - angular velocity of Earth,\n",
    "     * $\\Phi$ - latitude of the iceberg,\n",
    "     * $\\vec{k}$ - unit normal vector to the surface of the Earth,\n",
    " - $\\vec{F}_{si}$ - sea ice interaction force, which can be:\n",
    "     * $\\vec{F}_{si} = 0$ - for sea ice concentration lower than $15\\%$\n",
    "     * $\\vec{F}_{si} = \\frac{1}{2} \\rho_{si} C_{si} A_{si} \\lvert\\vec{V}_{si} - \\vec{V}_i\\rvert (\\vec{V}_{si} - \\vec{V}_i)$ - for sea ice concentration $15\\%-90\\%$:\n",
    "         * $\\rho_{si}$ - sea ice density,\n",
    "         * $C_{si}$ - coefficient of resistance,\n",
    "         * $A_{si}$ - area of interaction with sea ice,\n",
    "         * $\\vec{V}_{si}$ - sea ice velocity,\n",
    "     * $\\vec{F}_{si} = -(\\vec{F}_a + \\vec{F}_w + \\vec{F}_c + \\vec{F}_{wd} + \\vec{F}_p)$ - for sea ice concentration over $90\\%$.\n"
   ]
  },
  {
   "cell_type": "code",
   "execution_count": null,
   "metadata": {},
   "outputs": [],
   "source": []
  }
 ],
 "metadata": {
  "kernelspec": {
   "display_name": "Python 3",
   "language": "python",
   "name": "python3"
  },
  "language_info": {
   "codemirror_mode": {
    "name": "ipython",
    "version": 3
   },
   "file_extension": ".py",
   "mimetype": "text/x-python",
   "name": "python",
   "nbconvert_exporter": "python",
   "pygments_lexer": "ipython3",
   "version": "3.10.2 (tags/v3.10.2:a58ebcc, Jan 17 2022, 14:12:15) [MSC v.1929 64 bit (AMD64)]"
  },
  "orig_nbformat": 4,
  "vscode": {
   "interpreter": {
    "hash": "b239acf2821489c398a9848859e84ce39b99d30cc4031fb37cc7461da3883639"
   }
  }
 },
 "nbformat": 4,
 "nbformat_minor": 2
}
